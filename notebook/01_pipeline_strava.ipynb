{
  "nbformat": 4,
  "nbformat_minor": 0,
  "metadata": {
    "colab": {
      "provenance": [],
      "collapsed_sections": [
        "_sfwbwLu_LoU",
        "rSjgAFrN50yM"
      ],
      "authorship_tag": "ABX9TyNGl3ZIQH+6ZnLFpYCZXM66",
      "include_colab_link": true
    },
    "kernelspec": {
      "name": "python3",
      "display_name": "Python 3"
    },
    "language_info": {
      "name": "python"
    }
  },
  "cells": [
    {
      "cell_type": "markdown",
      "metadata": {
        "id": "view-in-github",
        "colab_type": "text"
      },
      "source": [
        "<a href=\"https://colab.research.google.com/github/ncourtel1/strava-urban-mobility-pipeline/blob/main/notebook/01_pipeline_strava.ipynb\" target=\"_parent\"><img src=\"https://colab.research.google.com/assets/colab-badge.svg\" alt=\"Open In Colab\"/></a>"
      ]
    },
    {
      "cell_type": "code",
      "execution_count": null,
      "metadata": {
        "colab": {
          "base_uri": "https://localhost:8080/"
        },
        "id": "cUkkHmjYtvCL",
        "outputId": "9c5a3717-0ea8-434e-eba7-64b62e39bc0e",
        "collapsed": true
      },
      "outputs": [
        {
          "output_type": "stream",
          "name": "stdout",
          "text": [
            "Requirement already satisfied: stravalib in /usr/local/lib/python3.12/dist-packages (2.4)\n",
            "Requirement already satisfied: pandas in /usr/local/lib/python3.12/dist-packages (2.2.2)\n",
            "Requirement already satisfied: polyline in /usr/local/lib/python3.12/dist-packages (2.0.3)\n",
            "Requirement already satisfied: requests in /usr/local/lib/python3.12/dist-packages (2.32.4)\n",
            "Requirement already satisfied: folium in /usr/local/lib/python3.12/dist-packages (0.20.0)\n",
            "Requirement already satisfied: python-dotenv in /usr/local/lib/python3.12/dist-packages (1.1.1)\n",
            "Requirement already satisfied: stravaio in /usr/local/lib/python3.12/dist-packages (0.0.9)\n",
            "Requirement already satisfied: wearipedia in /usr/local/lib/python3.12/dist-packages (0.1.7)\n",
            "Requirement already satisfied: pint in /usr/local/lib/python3.12/dist-packages (from stravalib) (0.25)\n",
            "Requirement already satisfied: pytz in /usr/local/lib/python3.12/dist-packages (from stravalib) (2025.2)\n",
            "Requirement already satisfied: arrow in /usr/local/lib/python3.12/dist-packages (from stravalib) (1.3.0)\n",
            "Requirement already satisfied: pydantic>=2.0 in /usr/local/lib/python3.12/dist-packages (from stravalib) (2.11.10)\n",
            "Requirement already satisfied: numpy>=1.26.0 in /usr/local/lib/python3.12/dist-packages (from pandas) (2.0.2)\n",
            "Requirement already satisfied: python-dateutil>=2.8.2 in /usr/local/lib/python3.12/dist-packages (from pandas) (2.9.0.post0)\n",
            "Requirement already satisfied: tzdata>=2022.7 in /usr/local/lib/python3.12/dist-packages (from pandas) (2025.2)\n",
            "Requirement already satisfied: charset_normalizer<4,>=2 in /usr/local/lib/python3.12/dist-packages (from requests) (3.4.3)\n",
            "Requirement already satisfied: idna<4,>=2.5 in /usr/local/lib/python3.12/dist-packages (from requests) (3.10)\n",
            "Requirement already satisfied: urllib3<3,>=1.21.1 in /usr/local/lib/python3.12/dist-packages (from requests) (2.5.0)\n",
            "Requirement already satisfied: certifi>=2017.4.17 in /usr/local/lib/python3.12/dist-packages (from requests) (2025.10.5)\n",
            "Requirement already satisfied: branca>=0.6.0 in /usr/local/lib/python3.12/dist-packages (from folium) (0.8.2)\n",
            "Requirement already satisfied: jinja2>=2.9 in /usr/local/lib/python3.12/dist-packages (from folium) (3.1.6)\n",
            "Requirement already satisfied: xyzservices in /usr/local/lib/python3.12/dist-packages (from folium) (2025.4.0)\n",
            "Requirement already satisfied: maya in /usr/local/lib/python3.12/dist-packages (from stravaio) (0.6.1)\n",
            "Requirement already satisfied: pyarrow in /usr/local/lib/python3.12/dist-packages (from stravaio) (18.1.0)\n",
            "Requirement already satisfied: loguru in /usr/local/lib/python3.12/dist-packages (from stravaio) (0.7.3)\n",
            "Requirement already satisfied: beautifulsoup4>=4.12.2 in /usr/local/lib/python3.12/dist-packages (from wearipedia) (4.13.5)\n",
            "Requirement already satisfied: fastapi==0.101 in /usr/local/lib/python3.12/dist-packages (from wearipedia) (0.101.0)\n",
            "Requirement already satisfied: fbm>=0.3.0 in /usr/local/lib/python3.12/dist-packages (from wearipedia) (0.3.0)\n",
            "Requirement already satisfied: garminconnect>=0.2.25 in /usr/local/lib/python3.12/dist-packages (from wearipedia) (0.2.30)\n",
            "Requirement already satisfied: garth>=0.5.2 in /usr/local/lib/python3.12/dist-packages (from wearipedia) (0.5.17)\n",
            "Requirement already satisfied: jupyter>=1.0.0 in /usr/local/lib/python3.12/dist-packages (from wearipedia) (1.1.1)\n",
            "Requirement already satisfied: myfitnesspal>=2.0.1 in /usr/local/lib/python3.12/dist-packages (from wearipedia) (2.1.2)\n",
            "Requirement already satisfied: qualtricsapi>=0.6.1 in /usr/local/lib/python3.12/dist-packages (from wearipedia) (0.6.2)\n",
            "Requirement already satisfied: rich>=12.6.0 in /usr/local/lib/python3.12/dist-packages (from wearipedia) (12.6.0)\n",
            "Requirement already satisfied: scipy>=1.13.0 in /usr/local/lib/python3.12/dist-packages (from wearipedia) (1.16.2)\n",
            "Requirement already satisfied: tqdm>=4.64.1 in /usr/local/lib/python3.12/dist-packages (from wearipedia) (4.67.1)\n",
            "Requirement already satisfied: typer>=0.6.1 in /usr/local/lib/python3.12/dist-packages (from typer[all]>=0.6.1->wearipedia) (0.19.2)\n",
            "Requirement already satisfied: typing-extensions>=4.12.2 in /usr/local/lib/python3.12/dist-packages (from wearipedia) (4.12.2)\n",
            "Requirement already satisfied: wget>=3.2 in /usr/local/lib/python3.12/dist-packages (from wearipedia) (3.2)\n",
            "Requirement already satisfied: starlette<0.28.0,>=0.27.0 in /usr/local/lib/python3.12/dist-packages (from fastapi==0.101->wearipedia) (0.27.0)\n",
            "Requirement already satisfied: soupsieve>1.2 in /usr/local/lib/python3.12/dist-packages (from beautifulsoup4>=4.12.2->wearipedia) (2.8)\n",
            "Requirement already satisfied: requests-oauthlib<3.0.0,>=1.3.1 in /usr/local/lib/python3.12/dist-packages (from garth>=0.5.2->wearipedia) (2.0.0)\n",
            "Requirement already satisfied: MarkupSafe>=2.0 in /usr/local/lib/python3.12/dist-packages (from jinja2>=2.9->folium) (3.0.3)\n",
            "Requirement already satisfied: notebook in /usr/local/lib/python3.12/dist-packages (from jupyter>=1.0.0->wearipedia) (6.5.7)\n",
            "Requirement already satisfied: jupyter-console in /usr/local/lib/python3.12/dist-packages (from jupyter>=1.0.0->wearipedia) (6.6.3)\n",
            "Requirement already satisfied: nbconvert in /usr/local/lib/python3.12/dist-packages (from jupyter>=1.0.0->wearipedia) (7.16.6)\n",
            "Requirement already satisfied: ipykernel in /usr/local/lib/python3.12/dist-packages (from jupyter>=1.0.0->wearipedia) (6.17.1)\n",
            "Requirement already satisfied: ipywidgets in /usr/local/lib/python3.12/dist-packages (from jupyter>=1.0.0->wearipedia) (7.7.1)\n",
            "Requirement already satisfied: jupyterlab in /usr/local/lib/python3.12/dist-packages (from jupyter>=1.0.0->wearipedia) (4.4.9)\n",
            "Requirement already satisfied: blessed<2.0,>=1.8.5 in /usr/local/lib/python3.12/dist-packages (from myfitnesspal>=2.0.1->wearipedia) (1.22.0)\n",
            "Requirement already satisfied: lxml<6,>=5.0.2 in /usr/local/lib/python3.12/dist-packages (from myfitnesspal>=2.0.1->wearipedia) (5.4.0)\n",
            "Requirement already satisfied: measurement<4.0,>=3.2.0 in /usr/local/lib/python3.12/dist-packages (from myfitnesspal>=2.0.1->wearipedia) (3.2.2)\n",
            "Requirement already satisfied: browser_cookie3<1,>=0.16.1 in /usr/local/lib/python3.12/dist-packages (from myfitnesspal>=2.0.1->wearipedia) (0.20.1)\n",
            "Requirement already satisfied: cloudscraper<2,>=1.2.71 in /usr/local/lib/python3.12/dist-packages (from myfitnesspal>=2.0.1->wearipedia) (1.2.71)\n",
            "Requirement already satisfied: annotated-types>=0.6.0 in /usr/local/lib/python3.12/dist-packages (from pydantic>=2.0->stravalib) (0.7.0)\n",
            "Requirement already satisfied: pydantic-core==2.33.2 in /usr/local/lib/python3.12/dist-packages (from pydantic>=2.0->stravalib) (2.33.2)\n",
            "Requirement already satisfied: typing-inspection>=0.4.0 in /usr/local/lib/python3.12/dist-packages (from pydantic>=2.0->stravalib) (0.4.2)\n",
            "Requirement already satisfied: six>=1.5 in /usr/local/lib/python3.12/dist-packages (from python-dateutil>=2.8.2->pandas) (1.17.0)\n",
            "Requirement already satisfied: commonmark<0.10.0,>=0.9.0 in /usr/local/lib/python3.12/dist-packages (from rich>=12.6.0->wearipedia) (0.9.1)\n",
            "Requirement already satisfied: pygments<3.0.0,>=2.6.0 in /usr/local/lib/python3.12/dist-packages (from rich>=12.6.0->wearipedia) (2.19.2)\n",
            "Requirement already satisfied: click>=8.0.0 in /usr/local/lib/python3.12/dist-packages (from typer>=0.6.1->typer[all]>=0.6.1->wearipedia) (8.3.0)\n",
            "Requirement already satisfied: shellingham>=1.3.0 in /usr/local/lib/python3.12/dist-packages (from typer>=0.6.1->typer[all]>=0.6.1->wearipedia) (1.5.4)\n",
            "\u001b[33mWARNING: typer 0.19.2 does not provide the extra 'all'\u001b[0m\u001b[33m\n",
            "\u001b[0mRequirement already satisfied: types-python-dateutil>=2.8.10 in /usr/local/lib/python3.12/dist-packages (from arrow->stravalib) (2.9.0.20251008)\n",
            "Requirement already satisfied: humanize in /usr/local/lib/python3.12/dist-packages (from maya->stravaio) (4.13.0)\n",
            "Requirement already satisfied: dateparser>=0.7.0 in /usr/local/lib/python3.12/dist-packages (from maya->stravaio) (1.2.2)\n",
            "Requirement already satisfied: tzlocal in /usr/local/lib/python3.12/dist-packages (from maya->stravaio) (5.3.1)\n",
            "Requirement already satisfied: pendulum>=2.0.2 in /usr/local/lib/python3.12/dist-packages (from maya->stravaio) (3.1.0)\n",
            "Requirement already satisfied: snaptime in /usr/local/lib/python3.12/dist-packages (from maya->stravaio) (0.2.4)\n",
            "Requirement already satisfied: flexcache>=0.3 in /usr/local/lib/python3.12/dist-packages (from pint->stravalib) (0.3)\n",
            "Requirement already satisfied: flexparser>=0.4 in /usr/local/lib/python3.12/dist-packages (from pint->stravalib) (0.4)\n",
            "Requirement already satisfied: platformdirs>=2.1.0 in /usr/local/lib/python3.12/dist-packages (from pint->stravalib) (4.5.0)\n",
            "Requirement already satisfied: wcwidth>=0.1.4 in /usr/local/lib/python3.12/dist-packages (from blessed<2.0,>=1.8.5->myfitnesspal>=2.0.1->wearipedia) (0.2.14)\n",
            "Requirement already satisfied: lz4 in /usr/local/lib/python3.12/dist-packages (from browser_cookie3<1,>=0.16.1->myfitnesspal>=2.0.1->wearipedia) (4.4.4)\n",
            "Requirement already satisfied: pycryptodomex in /usr/local/lib/python3.12/dist-packages (from browser_cookie3<1,>=0.16.1->myfitnesspal>=2.0.1->wearipedia) (3.23.0)\n",
            "Requirement already satisfied: jeepney in /usr/local/lib/python3.12/dist-packages (from browser_cookie3<1,>=0.16.1->myfitnesspal>=2.0.1->wearipedia) (0.9.0)\n",
            "Requirement already satisfied: pyparsing>=2.4.7 in /usr/local/lib/python3.12/dist-packages (from cloudscraper<2,>=1.2.71->myfitnesspal>=2.0.1->wearipedia) (3.2.5)\n",
            "Requirement already satisfied: requests-toolbelt>=0.9.1 in /usr/local/lib/python3.12/dist-packages (from cloudscraper<2,>=1.2.71->myfitnesspal>=2.0.1->wearipedia) (1.0.0)\n",
            "Requirement already satisfied: regex>=2024.9.11 in /usr/local/lib/python3.12/dist-packages (from dateparser>=0.7.0->maya->stravaio) (2024.11.6)\n",
            "Requirement already satisfied: sympy in /usr/local/lib/python3.12/dist-packages (from measurement<4.0,>=3.2.0->myfitnesspal>=2.0.1->wearipedia) (1.13.3)\n",
            "Requirement already satisfied: oauthlib>=3.0.0 in /usr/local/lib/python3.12/dist-packages (from requests-oauthlib<3.0.0,>=1.3.1->garth>=0.5.2->wearipedia) (3.3.1)\n",
            "Requirement already satisfied: anyio<5,>=3.4.0 in /usr/local/lib/python3.12/dist-packages (from starlette<0.28.0,>=0.27.0->fastapi==0.101->wearipedia) (4.11.0)\n",
            "Requirement already satisfied: debugpy>=1.0 in /usr/local/lib/python3.12/dist-packages (from ipykernel->jupyter>=1.0.0->wearipedia) (1.8.15)\n",
            "Requirement already satisfied: ipython>=7.23.1 in /usr/local/lib/python3.12/dist-packages (from ipykernel->jupyter>=1.0.0->wearipedia) (7.34.0)\n",
            "Requirement already satisfied: jupyter-client>=6.1.12 in /usr/local/lib/python3.12/dist-packages (from ipykernel->jupyter>=1.0.0->wearipedia) (7.4.9)\n",
            "Requirement already satisfied: matplotlib-inline>=0.1 in /usr/local/lib/python3.12/dist-packages (from ipykernel->jupyter>=1.0.0->wearipedia) (0.1.7)\n",
            "Requirement already satisfied: nest-asyncio in /usr/local/lib/python3.12/dist-packages (from ipykernel->jupyter>=1.0.0->wearipedia) (1.6.0)\n",
            "Requirement already satisfied: packaging in /usr/local/lib/python3.12/dist-packages (from ipykernel->jupyter>=1.0.0->wearipedia) (25.0)\n",
            "Requirement already satisfied: psutil in /usr/local/lib/python3.12/dist-packages (from ipykernel->jupyter>=1.0.0->wearipedia) (5.9.5)\n",
            "Requirement already satisfied: pyzmq>=17 in /usr/local/lib/python3.12/dist-packages (from ipykernel->jupyter>=1.0.0->wearipedia) (26.2.1)\n",
            "Requirement already satisfied: tornado>=6.1 in /usr/local/lib/python3.12/dist-packages (from ipykernel->jupyter>=1.0.0->wearipedia) (6.4.2)\n",
            "Requirement already satisfied: traitlets>=5.1.0 in /usr/local/lib/python3.12/dist-packages (from ipykernel->jupyter>=1.0.0->wearipedia) (5.7.1)\n",
            "Requirement already satisfied: ipython-genutils~=0.2.0 in /usr/local/lib/python3.12/dist-packages (from ipywidgets->jupyter>=1.0.0->wearipedia) (0.2.0)\n",
            "Requirement already satisfied: widgetsnbextension~=3.6.0 in /usr/local/lib/python3.12/dist-packages (from ipywidgets->jupyter>=1.0.0->wearipedia) (3.6.10)\n",
            "Requirement already satisfied: jupyterlab-widgets>=1.0.0 in /usr/local/lib/python3.12/dist-packages (from ipywidgets->jupyter>=1.0.0->wearipedia) (3.0.15)\n",
            "Requirement already satisfied: jupyter-core!=5.0.*,>=4.12 in /usr/local/lib/python3.12/dist-packages (from jupyter-console->jupyter>=1.0.0->wearipedia) (5.8.1)\n",
            "Requirement already satisfied: prompt-toolkit>=3.0.30 in /usr/local/lib/python3.12/dist-packages (from jupyter-console->jupyter>=1.0.0->wearipedia) (3.0.52)\n",
            "Requirement already satisfied: async-lru>=1.0.0 in /usr/local/lib/python3.12/dist-packages (from jupyterlab->jupyter>=1.0.0->wearipedia) (2.0.5)\n",
            "Requirement already satisfied: httpx<1,>=0.25.0 in /usr/local/lib/python3.12/dist-packages (from jupyterlab->jupyter>=1.0.0->wearipedia) (0.28.1)\n",
            "Requirement already satisfied: jupyter-lsp>=2.0.0 in /usr/local/lib/python3.12/dist-packages (from jupyterlab->jupyter>=1.0.0->wearipedia) (2.3.0)\n",
            "Requirement already satisfied: jupyter-server<3,>=2.4.0 in /usr/local/lib/python3.12/dist-packages (from jupyterlab->jupyter>=1.0.0->wearipedia) (2.14.0)\n",
            "Requirement already satisfied: jupyterlab-server<3,>=2.27.1 in /usr/local/lib/python3.12/dist-packages (from jupyterlab->jupyter>=1.0.0->wearipedia) (2.27.3)\n",
            "Requirement already satisfied: notebook-shim>=0.2 in /usr/local/lib/python3.12/dist-packages (from jupyterlab->jupyter>=1.0.0->wearipedia) (0.2.4)\n",
            "Requirement already satisfied: setuptools>=41.1.0 in /usr/local/lib/python3.12/dist-packages (from jupyterlab->jupyter>=1.0.0->wearipedia) (75.2.0)\n",
            "Requirement already satisfied: bleach!=5.0.0 in /usr/local/lib/python3.12/dist-packages (from bleach[css]!=5.0.0->nbconvert->jupyter>=1.0.0->wearipedia) (6.2.0)\n",
            "Requirement already satisfied: defusedxml in /usr/local/lib/python3.12/dist-packages (from nbconvert->jupyter>=1.0.0->wearipedia) (0.7.1)\n",
            "Requirement already satisfied: jupyterlab-pygments in /usr/local/lib/python3.12/dist-packages (from nbconvert->jupyter>=1.0.0->wearipedia) (0.3.0)\n",
            "Requirement already satisfied: mistune<4,>=2.0.3 in /usr/local/lib/python3.12/dist-packages (from nbconvert->jupyter>=1.0.0->wearipedia) (3.1.4)\n",
            "Requirement already satisfied: nbclient>=0.5.0 in /usr/local/lib/python3.12/dist-packages (from nbconvert->jupyter>=1.0.0->wearipedia) (0.10.2)\n",
            "Requirement already satisfied: nbformat>=5.7 in /usr/local/lib/python3.12/dist-packages (from nbconvert->jupyter>=1.0.0->wearipedia) (5.10.4)\n",
            "Requirement already satisfied: pandocfilters>=1.4.1 in /usr/local/lib/python3.12/dist-packages (from nbconvert->jupyter>=1.0.0->wearipedia) (1.5.1)\n",
            "Requirement already satisfied: argon2-cffi in /usr/local/lib/python3.12/dist-packages (from notebook->jupyter>=1.0.0->wearipedia) (25.1.0)\n",
            "Requirement already satisfied: Send2Trash>=1.8.0 in /usr/local/lib/python3.12/dist-packages (from notebook->jupyter>=1.0.0->wearipedia) (1.8.3)\n",
            "Requirement already satisfied: terminado>=0.8.3 in /usr/local/lib/python3.12/dist-packages (from notebook->jupyter>=1.0.0->wearipedia) (0.18.1)\n",
            "Requirement already satisfied: prometheus-client in /usr/local/lib/python3.12/dist-packages (from notebook->jupyter>=1.0.0->wearipedia) (0.23.1)\n",
            "Requirement already satisfied: nbclassic>=0.4.7 in /usr/local/lib/python3.12/dist-packages (from notebook->jupyter>=1.0.0->wearipedia) (1.3.3)\n",
            "Requirement already satisfied: sniffio>=1.1 in /usr/local/lib/python3.12/dist-packages (from anyio<5,>=3.4.0->starlette<0.28.0,>=0.27.0->fastapi==0.101->wearipedia) (1.3.1)\n",
            "Requirement already satisfied: webencodings in /usr/local/lib/python3.12/dist-packages (from bleach!=5.0.0->bleach[css]!=5.0.0->nbconvert->jupyter>=1.0.0->wearipedia) (0.5.1)\n",
            "Requirement already satisfied: tinycss2<1.5,>=1.1.0 in /usr/local/lib/python3.12/dist-packages (from bleach[css]!=5.0.0->nbconvert->jupyter>=1.0.0->wearipedia) (1.4.0)\n",
            "Requirement already satisfied: httpcore==1.* in /usr/local/lib/python3.12/dist-packages (from httpx<1,>=0.25.0->jupyterlab->jupyter>=1.0.0->wearipedia) (1.0.9)\n",
            "Requirement already satisfied: h11>=0.16 in /usr/local/lib/python3.12/dist-packages (from httpcore==1.*->httpx<1,>=0.25.0->jupyterlab->jupyter>=1.0.0->wearipedia) (0.16.0)\n",
            "Requirement already satisfied: jedi>=0.16 in /usr/local/lib/python3.12/dist-packages (from ipython>=7.23.1->ipykernel->jupyter>=1.0.0->wearipedia) (0.19.2)\n",
            "Requirement already satisfied: decorator in /usr/local/lib/python3.12/dist-packages (from ipython>=7.23.1->ipykernel->jupyter>=1.0.0->wearipedia) (4.4.2)\n",
            "Requirement already satisfied: pickleshare in /usr/local/lib/python3.12/dist-packages (from ipython>=7.23.1->ipykernel->jupyter>=1.0.0->wearipedia) (0.7.5)\n",
            "Requirement already satisfied: backcall in /usr/local/lib/python3.12/dist-packages (from ipython>=7.23.1->ipykernel->jupyter>=1.0.0->wearipedia) (0.2.0)\n",
            "Requirement already satisfied: pexpect>4.3 in /usr/local/lib/python3.12/dist-packages (from ipython>=7.23.1->ipykernel->jupyter>=1.0.0->wearipedia) (4.9.0)\n",
            "Requirement already satisfied: entrypoints in /usr/local/lib/python3.12/dist-packages (from jupyter-client>=6.1.12->ipykernel->jupyter>=1.0.0->wearipedia) (0.4)\n",
            "Requirement already satisfied: jupyter-events>=0.9.0 in /usr/local/lib/python3.12/dist-packages (from jupyter-server<3,>=2.4.0->jupyterlab->jupyter>=1.0.0->wearipedia) (0.12.0)\n",
            "Requirement already satisfied: jupyter-server-terminals>=0.4.4 in /usr/local/lib/python3.12/dist-packages (from jupyter-server<3,>=2.4.0->jupyterlab->jupyter>=1.0.0->wearipedia) (0.5.3)\n",
            "Requirement already satisfied: overrides>=5.0 in /usr/local/lib/python3.12/dist-packages (from jupyter-server<3,>=2.4.0->jupyterlab->jupyter>=1.0.0->wearipedia) (7.7.0)\n",
            "Requirement already satisfied: websocket-client>=1.7 in /usr/local/lib/python3.12/dist-packages (from jupyter-server<3,>=2.4.0->jupyterlab->jupyter>=1.0.0->wearipedia) (1.9.0)\n",
            "Requirement already satisfied: argon2-cffi-bindings in /usr/local/lib/python3.12/dist-packages (from argon2-cffi->notebook->jupyter>=1.0.0->wearipedia) (25.1.0)\n",
            "Requirement already satisfied: babel>=2.10 in /usr/local/lib/python3.12/dist-packages (from jupyterlab-server<3,>=2.27.1->jupyterlab->jupyter>=1.0.0->wearipedia) (2.17.0)\n",
            "Requirement already satisfied: json5>=0.9.0 in /usr/local/lib/python3.12/dist-packages (from jupyterlab-server<3,>=2.27.1->jupyterlab->jupyter>=1.0.0->wearipedia) (0.12.1)\n",
            "Requirement already satisfied: jsonschema>=4.18.0 in /usr/local/lib/python3.12/dist-packages (from jupyterlab-server<3,>=2.27.1->jupyterlab->jupyter>=1.0.0->wearipedia) (4.25.1)\n",
            "Requirement already satisfied: fastjsonschema>=2.15 in /usr/local/lib/python3.12/dist-packages (from nbformat>=5.7->nbconvert->jupyter>=1.0.0->wearipedia) (2.21.2)\n",
            "Requirement already satisfied: ptyprocess in /usr/local/lib/python3.12/dist-packages (from terminado>=0.8.3->notebook->jupyter>=1.0.0->wearipedia) (0.7.0)\n",
            "Requirement already satisfied: mpmath<1.4,>=1.1.0 in /usr/local/lib/python3.12/dist-packages (from sympy->measurement<4.0,>=3.2.0->myfitnesspal>=2.0.1->wearipedia) (1.3.0)\n",
            "Requirement already satisfied: parso<0.9.0,>=0.8.4 in /usr/local/lib/python3.12/dist-packages (from jedi>=0.16->ipython>=7.23.1->ipykernel->jupyter>=1.0.0->wearipedia) (0.8.5)\n",
            "Requirement already satisfied: attrs>=22.2.0 in /usr/local/lib/python3.12/dist-packages (from jsonschema>=4.18.0->jupyterlab-server<3,>=2.27.1->jupyterlab->jupyter>=1.0.0->wearipedia) (25.4.0)\n",
            "Requirement already satisfied: jsonschema-specifications>=2023.03.6 in /usr/local/lib/python3.12/dist-packages (from jsonschema>=4.18.0->jupyterlab-server<3,>=2.27.1->jupyterlab->jupyter>=1.0.0->wearipedia) (2025.9.1)\n",
            "Requirement already satisfied: referencing>=0.28.4 in /usr/local/lib/python3.12/dist-packages (from jsonschema>=4.18.0->jupyterlab-server<3,>=2.27.1->jupyterlab->jupyter>=1.0.0->wearipedia) (0.36.2)\n",
            "Requirement already satisfied: rpds-py>=0.7.1 in /usr/local/lib/python3.12/dist-packages (from jsonschema>=4.18.0->jupyterlab-server<3,>=2.27.1->jupyterlab->jupyter>=1.0.0->wearipedia) (0.27.1)\n",
            "Requirement already satisfied: python-json-logger>=2.0.4 in /usr/local/lib/python3.12/dist-packages (from jupyter-events>=0.9.0->jupyter-server<3,>=2.4.0->jupyterlab->jupyter>=1.0.0->wearipedia) (4.0.0)\n",
            "Requirement already satisfied: pyyaml>=5.3 in /usr/local/lib/python3.12/dist-packages (from jupyter-events>=0.9.0->jupyter-server<3,>=2.4.0->jupyterlab->jupyter>=1.0.0->wearipedia) (6.0.3)\n",
            "Requirement already satisfied: rfc3339-validator in /usr/local/lib/python3.12/dist-packages (from jupyter-events>=0.9.0->jupyter-server<3,>=2.4.0->jupyterlab->jupyter>=1.0.0->wearipedia) (0.1.4)\n",
            "Requirement already satisfied: rfc3986-validator>=0.1.1 in /usr/local/lib/python3.12/dist-packages (from jupyter-events>=0.9.0->jupyter-server<3,>=2.4.0->jupyterlab->jupyter>=1.0.0->wearipedia) (0.1.1)\n",
            "Requirement already satisfied: cffi>=1.0.1 in /usr/local/lib/python3.12/dist-packages (from argon2-cffi-bindings->argon2-cffi->notebook->jupyter>=1.0.0->wearipedia) (2.0.0)\n",
            "Requirement already satisfied: pycparser in /usr/local/lib/python3.12/dist-packages (from cffi>=1.0.1->argon2-cffi-bindings->argon2-cffi->notebook->jupyter>=1.0.0->wearipedia) (2.23)\n",
            "Requirement already satisfied: fqdn in /usr/local/lib/python3.12/dist-packages (from jsonschema[format-nongpl]>=4.18.0->jupyter-events>=0.9.0->jupyter-server<3,>=2.4.0->jupyterlab->jupyter>=1.0.0->wearipedia) (1.5.1)\n",
            "Requirement already satisfied: isoduration in /usr/local/lib/python3.12/dist-packages (from jsonschema[format-nongpl]>=4.18.0->jupyter-events>=0.9.0->jupyter-server<3,>=2.4.0->jupyterlab->jupyter>=1.0.0->wearipedia) (20.11.0)\n",
            "Requirement already satisfied: jsonpointer>1.13 in /usr/local/lib/python3.12/dist-packages (from jsonschema[format-nongpl]>=4.18.0->jupyter-events>=0.9.0->jupyter-server<3,>=2.4.0->jupyterlab->jupyter>=1.0.0->wearipedia) (3.0.0)\n",
            "Requirement already satisfied: rfc3987-syntax>=1.1.0 in /usr/local/lib/python3.12/dist-packages (from jsonschema[format-nongpl]>=4.18.0->jupyter-events>=0.9.0->jupyter-server<3,>=2.4.0->jupyterlab->jupyter>=1.0.0->wearipedia) (1.1.0)\n",
            "Requirement already satisfied: uri-template in /usr/local/lib/python3.12/dist-packages (from jsonschema[format-nongpl]>=4.18.0->jupyter-events>=0.9.0->jupyter-server<3,>=2.4.0->jupyterlab->jupyter>=1.0.0->wearipedia) (1.3.0)\n",
            "Requirement already satisfied: webcolors>=24.6.0 in /usr/local/lib/python3.12/dist-packages (from jsonschema[format-nongpl]>=4.18.0->jupyter-events>=0.9.0->jupyter-server<3,>=2.4.0->jupyterlab->jupyter>=1.0.0->wearipedia) (24.11.1)\n",
            "Requirement already satisfied: lark>=1.2.2 in /usr/local/lib/python3.12/dist-packages (from rfc3987-syntax>=1.1.0->jsonschema[format-nongpl]>=4.18.0->jupyter-events>=0.9.0->jupyter-server<3,>=2.4.0->jupyterlab->jupyter>=1.0.0->wearipedia) (1.3.0)\n"
          ]
        }
      ],
      "source": [
        "!pip install stravalib pandas polyline requests folium python-dotenv stravaio wearipedia"
      ]
    },
    {
      "cell_type": "code",
      "source": [
        "import pandas as pd\n",
        "from stravalib import Client\n",
        "import datetime\n",
        "import polyline\n",
        "import urllib\n",
        "import requests\n",
        "import json\n",
        "from stravaio import StravaIO\n",
        "import folium\n",
        "import logging\n",
        "import wearipedia"
      ],
      "metadata": {
        "id": "qjMkQ9sV7dwF"
      },
      "execution_count": null,
      "outputs": []
    },
    {
      "cell_type": "markdown",
      "source": [
        "## 2. Authentication and Authorization\n",
        "To obtain access to data, authorization is required. Put in your client id, client secret token and refresh token for your Strava account. We'll use this to extract the data in the sections below."
      ],
      "metadata": {
        "id": "EbAr6O6r2J6U"
      }
    },
    {
      "cell_type": "code",
      "source": [
        "from dotenv import load_dotenv\n",
        "import os\n",
        "\n",
        "# Charger le fichier .env\n",
        "load_dotenv('.env')\n",
        "\n",
        "# Récupérer les variables\n",
        "client_id = os.getenv('STRAVA_CLIENT_ID')\n",
        "client_secret = os.getenv('STRAVA_CLIENT_SECRET')\n",
        "access_token = os.getenv('STRAVA_ACCESS_TOKEN')\n",
        "refresh_token = os.getenv('STRAVA_REFRESH_TOKEN')"
      ],
      "metadata": {
        "id": "55RWru3r_vuR"
      },
      "execution_count": 62,
      "outputs": []
    },
    {
      "cell_type": "code",
      "source": [
        "params_oauth = {\n",
        "    \"client_id\": client_id,\n",
        "    \"response_type\": \"code\",\n",
        "    \"redirect_uri\": f\"http://localhost:8000/authorization_successful\",\n",
        "    \"scope\": \"read,profile:read_all,activity:read\",\n",
        "    \"approval_prompt\": \"force\"\n",
        "}\n",
        "values_url = urllib.parse.urlencode(params_oauth)\n",
        "base_url = 'https://www.strava.com/oauth/authorize'\n",
        "authorize_url = base_url + '?' + values_url\n",
        "print(authorize_url)"
      ],
      "metadata": {
        "colab": {
          "base_uri": "https://localhost:8080/"
        },
        "id": "1I0sZSkkPMi_",
        "outputId": "8e80af03-9095-4157-9bbc-3cb5d55cfed3"
      },
      "execution_count": 63,
      "outputs": [
        {
          "output_type": "stream",
          "name": "stdout",
          "text": [
            "https://www.strava.com/oauth/authorize?client_id=181205&response_type=code&redirect_uri=http%3A%2F%2Flocalhost%3A8000%2Fauthorization_successful&scope=read%2Cprofile%3Aread_all%2Cactivity%3Aread&approval_prompt=force\n"
          ]
        }
      ]
    },
    {
      "cell_type": "code",
      "source": [
        "AUTHORIZATION_CODE = \"b309fa2b32c7d10f6e200989d283a3d9c5d6bf6d\" #@param {type: \"string\"}"
      ],
      "metadata": {
        "id": "QW39FhWXQtdy"
      },
      "execution_count": 64,
      "outputs": []
    },
    {
      "cell_type": "code",
      "source": [
        "#@title Enter Strava API credentials\n",
        "\n",
        "def get_strava_refresh_token(client_id, client_secret, code):\n",
        "    \"\"\"\n",
        "    Get a refresh token from Strava API using authorization code.\n",
        "\n",
        "    Args:\n",
        "        client_id (str): Your Strava API client ID\n",
        "        client_secret (str): Your Strava API client secret\n",
        "        code (str): Authorization code received from Strava\n",
        "\n",
        "    Returns:\n",
        "        str: The refresh token\n",
        "    \"\"\"\n",
        "    url = \"https://www.strava.com/api/v3/oauth/token\"\n",
        "    payload = {\n",
        "        'client_id': client_id,\n",
        "        'client_secret': client_secret,\n",
        "        'code': AUTHORIZATION_CODE,\n",
        "        'grant_type': 'authorization_code'\n",
        "    }\n",
        "\n",
        "    try:\n",
        "        response = requests.post(url, data=payload)\n",
        "        response.raise_for_status()\n",
        "        data = response.json()\n",
        "\n",
        "        refresh_token = data.get('refresh_token')\n",
        "\n",
        "        if not refresh_token:\n",
        "            print(\"Warning: No refresh token found in response\")\n",
        "        return refresh_token\n",
        "\n",
        "    except requests.exceptions.RequestException as e:\n",
        "        print(f\"Error making request: {e}\")\n",
        "        return None\n",
        "\n",
        "# If you have a refresh token already directly, you can fill this in instead of calling the above function.\n",
        "refresh_token = get_strava_refresh_token(client_id, client_secret, AUTHORIZATION_CODE)\n",
        "print(\"Your refresh_token is\", refresh_token)\n",
        "\n",
        "# Note that the authorization code can only be used once, so you should hold onto this refresh token, or you can go through the authorize page"
      ],
      "metadata": {
        "colab": {
          "base_uri": "https://localhost:8080/"
        },
        "id": "ad_Phx_QQ0yq",
        "outputId": "9f993923-3f97-43b8-ff2e-2af5eb2081db"
      },
      "execution_count": 71,
      "outputs": [
        {
          "output_type": "stream",
          "name": "stdout",
          "text": [
            "Error making request: 400 Client Error: Bad Request for url: https://www.strava.com/api/v3/oauth/token\n",
            "Your refresh_token is None\n"
          ]
        }
      ]
    },
    {
      "cell_type": "code",
      "source": [
        "client = StravaIO(access_token=access_token)\n",
        "athlete = client.get_logged_in_athlete()\n",
        "activities = client.get_logged_in_athlete_activities()"
      ],
      "metadata": {
        "colab": {
          "base_uri": "https://localhost:8080/",
          "height": 903
        },
        "id": "aNMNlcxdROna",
        "outputId": "8f3b54fe-4dae-4b87-a5f6-465edd9b2618"
      },
      "execution_count": 69,
      "outputs": [
        {
          "output_type": "stream",
          "name": "stderr",
          "text": [
            "\u001b[32m2025-10-16 15:15:51.092\u001b[0m | \u001b[31m\u001b[1mERROR   \u001b[0m | \u001b[36mstravaio\u001b[0m:\u001b[36mget_logged_in_athlete\u001b[0m:\u001b[36m41\u001b[0m - \u001b[31m\u001b[1m\"\n",
            "            Error in strava_swagger_client.AthletesApi! \n",
            "            STRAVA_ACCESS_TOKEN is likely out of date!\n",
            "            Check the https://github.com/sladkovm/strava-oauth for help.\n",
            "            Returning None.\n",
            "            Original Error:\n",
            "            (401)\n",
            "Reason: Unauthorized\n",
            "HTTP response headers: HTTPHeaderDict({'Content-Type': 'application/json; charset=utf-8', 'Transfer-Encoding': 'chunked', 'Connection': 'keep-alive', 'Date': 'Thu, 16 Oct 2025 15:15:51 GMT', 'x-envoy-upstream-service-time': '14', 'server': 'istio-envoy', 'status': '401 Unauthorized', 'cache-control': 'no-cache', 'vary': 'Accept, Origin', 'referrer-policy': 'strict-origin-when-cross-origin', 'x-permitted-cross-domain-policies': 'none', 'x-xss-protection': '1; mode=block', 'x-request-id': '87e7a2a2-ee80-4e42-9993-51a7b261b5f8', 'x-download-options': 'noopen', 'x-frame-options': 'DENY', 'x-content-type-options': 'nosniff', 'X-Cache': 'Error from cloudfront', 'Via': '1.1 ad1a856488fdab864472ba6d5677e39c.cloudfront.net (CloudFront)', 'X-Amz-Cf-Pop': 'SEA900-P6', 'X-Amz-Cf-Id': '53toTQR3VvkkQHu0bqIbusOrXZgepO75YpY8iTtkWrWRHLnPMq5Ikg=='})\n",
            "HTTP response body: {\"message\":\"Authorization Error\",\"errors\":[{\"resource\":\"Athlete\",\"field\":\"access_token\",\"code\":\"invalid\"}]}\n",
            "\u001b[0m\n"
          ]
        },
        {
          "output_type": "error",
          "ename": "ApiException",
          "evalue": "(401)\nReason: Unauthorized\nHTTP response headers: HTTPHeaderDict({'Content-Type': 'application/json; charset=utf-8', 'Transfer-Encoding': 'chunked', 'Connection': 'keep-alive', 'Date': 'Thu, 16 Oct 2025 15:15:51 GMT', 'x-envoy-upstream-service-time': '45', 'server': 'istio-envoy', 'status': '401 Unauthorized', 'cache-control': 'no-cache', 'vary': 'Accept, Origin', 'referrer-policy': 'strict-origin-when-cross-origin', 'x-permitted-cross-domain-policies': 'none', 'x-xss-protection': '1; mode=block', 'x-request-id': '5a4b6850-fd35-4ee7-9975-d1b6e99f36e3', 'x-download-options': 'noopen', 'x-frame-options': 'DENY', 'x-content-type-options': 'nosniff', 'X-Cache': 'Error from cloudfront', 'Via': '1.1 ad1a856488fdab864472ba6d5677e39c.cloudfront.net (CloudFront)', 'X-Amz-Cf-Pop': 'SEA900-P6', 'X-Amz-Cf-Id': 'QdIji2ZQMJzO5rb3bHnIdn8F2d-pVk0JV1OLnZYksT5hXWdHehXORg=='})\nHTTP response body: {\"message\":\"Authorization Error\",\"errors\":[{\"resource\":\"Athlete\",\"field\":\"access_token\",\"code\":\"invalid\"}]}\n",
          "traceback": [
            "\u001b[0;31m---------------------------------------------------------------------------\u001b[0m",
            "\u001b[0;31mApiException\u001b[0m                              Traceback (most recent call last)",
            "\u001b[0;32m/tmp/ipython-input-208981672.py\u001b[0m in \u001b[0;36m<cell line: 0>\u001b[0;34m()\u001b[0m\n\u001b[1;32m      1\u001b[0m \u001b[0mclient\u001b[0m \u001b[0;34m=\u001b[0m \u001b[0mStravaIO\u001b[0m\u001b[0;34m(\u001b[0m\u001b[0maccess_token\u001b[0m\u001b[0;34m=\u001b[0m\u001b[0maccess_token\u001b[0m\u001b[0;34m)\u001b[0m\u001b[0;34m\u001b[0m\u001b[0;34m\u001b[0m\u001b[0m\n\u001b[1;32m      2\u001b[0m \u001b[0mathlete\u001b[0m \u001b[0;34m=\u001b[0m \u001b[0mclient\u001b[0m\u001b[0;34m.\u001b[0m\u001b[0mget_logged_in_athlete\u001b[0m\u001b[0;34m(\u001b[0m\u001b[0;34m)\u001b[0m\u001b[0;34m\u001b[0m\u001b[0;34m\u001b[0m\u001b[0m\n\u001b[0;32m----> 3\u001b[0;31m \u001b[0mactivities\u001b[0m \u001b[0;34m=\u001b[0m \u001b[0mclient\u001b[0m\u001b[0;34m.\u001b[0m\u001b[0mget_logged_in_athlete_activities\u001b[0m\u001b[0;34m(\u001b[0m\u001b[0;34m)\u001b[0m\u001b[0;34m\u001b[0m\u001b[0;34m\u001b[0m\u001b[0m\n\u001b[0m",
            "\u001b[0;32m/usr/local/lib/python3.12/dist-packages/stravaio.py\u001b[0m in \u001b[0;36mget_logged_in_athlete_activities\u001b[0;34m(self, after, list_activities)\u001b[0m\n\u001b[1;32m     88\u001b[0m             \u001b[0mlist_activities\u001b[0m \u001b[0;34m=\u001b[0m \u001b[0;34m[\u001b[0m\u001b[0;34m]\u001b[0m\u001b[0;34m\u001b[0m\u001b[0;34m\u001b[0m\u001b[0m\n\u001b[1;32m     89\u001b[0m         \u001b[0mafter\u001b[0m \u001b[0;34m=\u001b[0m \u001b[0mdate_to_epoch\u001b[0m\u001b[0;34m(\u001b[0m\u001b[0mafter\u001b[0m\u001b[0;34m)\u001b[0m\u001b[0;34m\u001b[0m\u001b[0;34m\u001b[0m\u001b[0m\n\u001b[0;32m---> 90\u001b[0;31m         \u001b[0m_fetched\u001b[0m \u001b[0;34m=\u001b[0m \u001b[0mself\u001b[0m\u001b[0;34m.\u001b[0m\u001b[0mactivities_api\u001b[0m\u001b[0;34m.\u001b[0m\u001b[0mget_logged_in_athlete_activities\u001b[0m\u001b[0;34m(\u001b[0m\u001b[0mafter\u001b[0m\u001b[0;34m=\u001b[0m\u001b[0mafter\u001b[0m\u001b[0;34m)\u001b[0m\u001b[0;34m\u001b[0m\u001b[0;34m\u001b[0m\u001b[0m\n\u001b[0m\u001b[1;32m     91\u001b[0m         \u001b[0;32mif\u001b[0m \u001b[0mlen\u001b[0m\u001b[0;34m(\u001b[0m\u001b[0m_fetched\u001b[0m\u001b[0;34m)\u001b[0m \u001b[0;34m>\u001b[0m \u001b[0;36m0\u001b[0m\u001b[0;34m:\u001b[0m\u001b[0;34m\u001b[0m\u001b[0;34m\u001b[0m\u001b[0m\n\u001b[1;32m     92\u001b[0m             \u001b[0mprint\u001b[0m\u001b[0;34m(\u001b[0m\u001b[0;34mf\"Fetched {len(_fetched)}, the latests is on {_fetched[-1].start_date}\"\u001b[0m\u001b[0;34m)\u001b[0m\u001b[0;34m\u001b[0m\u001b[0;34m\u001b[0m\u001b[0m\n",
            "\u001b[0;32m/usr/local/lib/python3.12/dist-packages/swagger_client/api/activities_api.py\u001b[0m in \u001b[0;36mget_logged_in_athlete_activities\u001b[0;34m(self, **kwargs)\u001b[0m\n\u001b[1;32m    595\u001b[0m             \u001b[0;32mreturn\u001b[0m \u001b[0mself\u001b[0m\u001b[0;34m.\u001b[0m\u001b[0mget_logged_in_athlete_activities_with_http_info\u001b[0m\u001b[0;34m(\u001b[0m\u001b[0;34m**\u001b[0m\u001b[0mkwargs\u001b[0m\u001b[0;34m)\u001b[0m  \u001b[0;31m# noqa: E501\u001b[0m\u001b[0;34m\u001b[0m\u001b[0;34m\u001b[0m\u001b[0m\n\u001b[1;32m    596\u001b[0m         \u001b[0;32melse\u001b[0m\u001b[0;34m:\u001b[0m\u001b[0;34m\u001b[0m\u001b[0;34m\u001b[0m\u001b[0m\n\u001b[0;32m--> 597\u001b[0;31m             \u001b[0;34m(\u001b[0m\u001b[0mdata\u001b[0m\u001b[0;34m)\u001b[0m \u001b[0;34m=\u001b[0m \u001b[0mself\u001b[0m\u001b[0;34m.\u001b[0m\u001b[0mget_logged_in_athlete_activities_with_http_info\u001b[0m\u001b[0;34m(\u001b[0m\u001b[0;34m**\u001b[0m\u001b[0mkwargs\u001b[0m\u001b[0;34m)\u001b[0m  \u001b[0;31m# noqa: E501\u001b[0m\u001b[0;34m\u001b[0m\u001b[0;34m\u001b[0m\u001b[0m\n\u001b[0m\u001b[1;32m    598\u001b[0m             \u001b[0;32mreturn\u001b[0m \u001b[0mdata\u001b[0m\u001b[0;34m\u001b[0m\u001b[0;34m\u001b[0m\u001b[0m\n\u001b[1;32m    599\u001b[0m \u001b[0;34m\u001b[0m\u001b[0m\n",
            "\u001b[0;32m/usr/local/lib/python3.12/dist-packages/swagger_client/api/activities_api.py\u001b[0m in \u001b[0;36mget_logged_in_athlete_activities_with_http_info\u001b[0;34m(self, **kwargs)\u001b[0m\n\u001b[1;32m    660\u001b[0m         \u001b[0mauth_settings\u001b[0m \u001b[0;34m=\u001b[0m \u001b[0;34m[\u001b[0m\u001b[0;34m'strava_oauth'\u001b[0m\u001b[0;34m]\u001b[0m  \u001b[0;31m# noqa: E501\u001b[0m\u001b[0;34m\u001b[0m\u001b[0;34m\u001b[0m\u001b[0m\n\u001b[1;32m    661\u001b[0m \u001b[0;34m\u001b[0m\u001b[0m\n\u001b[0;32m--> 662\u001b[0;31m         return self.api_client.call_api(\n\u001b[0m\u001b[1;32m    663\u001b[0m             \u001b[0;34m'/athlete/activities'\u001b[0m\u001b[0;34m,\u001b[0m \u001b[0;34m'GET'\u001b[0m\u001b[0;34m,\u001b[0m\u001b[0;34m\u001b[0m\u001b[0;34m\u001b[0m\u001b[0m\n\u001b[1;32m    664\u001b[0m             \u001b[0mpath_params\u001b[0m\u001b[0;34m,\u001b[0m\u001b[0;34m\u001b[0m\u001b[0;34m\u001b[0m\u001b[0m\n",
            "\u001b[0;32m/usr/local/lib/python3.12/dist-packages/swagger_client/api_client.py\u001b[0m in \u001b[0;36mcall_api\u001b[0;34m(self, resource_path, method, path_params, query_params, header_params, body, post_params, files, response_type, auth_settings, async_req, _return_http_data_only, collection_formats, _preload_content, _request_timeout)\u001b[0m\n\u001b[1;32m    315\u001b[0m         \"\"\"\n\u001b[1;32m    316\u001b[0m         \u001b[0;32mif\u001b[0m \u001b[0;32mnot\u001b[0m \u001b[0masync_req\u001b[0m\u001b[0;34m:\u001b[0m\u001b[0;34m\u001b[0m\u001b[0;34m\u001b[0m\u001b[0m\n\u001b[0;32m--> 317\u001b[0;31m             return self.__call_api(resource_path, method,\n\u001b[0m\u001b[1;32m    318\u001b[0m                                    \u001b[0mpath_params\u001b[0m\u001b[0;34m,\u001b[0m \u001b[0mquery_params\u001b[0m\u001b[0;34m,\u001b[0m \u001b[0mheader_params\u001b[0m\u001b[0;34m,\u001b[0m\u001b[0;34m\u001b[0m\u001b[0;34m\u001b[0m\u001b[0m\n\u001b[1;32m    319\u001b[0m                                    \u001b[0mbody\u001b[0m\u001b[0;34m,\u001b[0m \u001b[0mpost_params\u001b[0m\u001b[0;34m,\u001b[0m \u001b[0mfiles\u001b[0m\u001b[0;34m,\u001b[0m\u001b[0;34m\u001b[0m\u001b[0;34m\u001b[0m\u001b[0m\n",
            "\u001b[0;32m/usr/local/lib/python3.12/dist-packages/swagger_client/api_client.py\u001b[0m in \u001b[0;36m__call_api\u001b[0;34m(self, resource_path, method, path_params, query_params, header_params, body, post_params, files, response_type, auth_settings, _return_http_data_only, collection_formats, _preload_content, _request_timeout)\u001b[0m\n\u001b[1;32m    147\u001b[0m \u001b[0;34m\u001b[0m\u001b[0m\n\u001b[1;32m    148\u001b[0m         \u001b[0;31m# perform request and return response\u001b[0m\u001b[0;34m\u001b[0m\u001b[0;34m\u001b[0m\u001b[0m\n\u001b[0;32m--> 149\u001b[0;31m         response_data = self.request(\n\u001b[0m\u001b[1;32m    150\u001b[0m             \u001b[0mmethod\u001b[0m\u001b[0;34m,\u001b[0m \u001b[0murl\u001b[0m\u001b[0;34m,\u001b[0m \u001b[0mquery_params\u001b[0m\u001b[0;34m=\u001b[0m\u001b[0mquery_params\u001b[0m\u001b[0;34m,\u001b[0m \u001b[0mheaders\u001b[0m\u001b[0;34m=\u001b[0m\u001b[0mheader_params\u001b[0m\u001b[0;34m,\u001b[0m\u001b[0;34m\u001b[0m\u001b[0;34m\u001b[0m\u001b[0m\n\u001b[1;32m    151\u001b[0m             \u001b[0mpost_params\u001b[0m\u001b[0;34m=\u001b[0m\u001b[0mpost_params\u001b[0m\u001b[0;34m,\u001b[0m \u001b[0mbody\u001b[0m\u001b[0;34m=\u001b[0m\u001b[0mbody\u001b[0m\u001b[0;34m,\u001b[0m\u001b[0;34m\u001b[0m\u001b[0;34m\u001b[0m\u001b[0m\n",
            "\u001b[0;32m/usr/local/lib/python3.12/dist-packages/swagger_client/api_client.py\u001b[0m in \u001b[0;36mrequest\u001b[0;34m(self, method, url, query_params, headers, post_params, body, _preload_content, _request_timeout)\u001b[0m\n\u001b[1;32m    337\u001b[0m         \u001b[0;34m\"\"\"Makes the HTTP request using RESTClient.\"\"\"\u001b[0m\u001b[0;34m\u001b[0m\u001b[0;34m\u001b[0m\u001b[0m\n\u001b[1;32m    338\u001b[0m         \u001b[0;32mif\u001b[0m \u001b[0mmethod\u001b[0m \u001b[0;34m==\u001b[0m \u001b[0;34m\"GET\"\u001b[0m\u001b[0;34m:\u001b[0m\u001b[0;34m\u001b[0m\u001b[0;34m\u001b[0m\u001b[0m\n\u001b[0;32m--> 339\u001b[0;31m             return self.rest_client.GET(url,\n\u001b[0m\u001b[1;32m    340\u001b[0m                                         \u001b[0mquery_params\u001b[0m\u001b[0;34m=\u001b[0m\u001b[0mquery_params\u001b[0m\u001b[0;34m,\u001b[0m\u001b[0;34m\u001b[0m\u001b[0;34m\u001b[0m\u001b[0m\n\u001b[1;32m    341\u001b[0m                                         \u001b[0m_preload_content\u001b[0m\u001b[0;34m=\u001b[0m\u001b[0m_preload_content\u001b[0m\u001b[0;34m,\u001b[0m\u001b[0;34m\u001b[0m\u001b[0;34m\u001b[0m\u001b[0m\n",
            "\u001b[0;32m/usr/local/lib/python3.12/dist-packages/swagger_client/rest.py\u001b[0m in \u001b[0;36mGET\u001b[0;34m(self, url, headers, query_params, _preload_content, _request_timeout)\u001b[0m\n\u001b[1;32m    232\u001b[0m     def GET(self, url, headers=None, query_params=None, _preload_content=True,\n\u001b[1;32m    233\u001b[0m             _request_timeout=None):\n\u001b[0;32m--> 234\u001b[0;31m         return self.request(\"GET\", url,\n\u001b[0m\u001b[1;32m    235\u001b[0m                             \u001b[0mheaders\u001b[0m\u001b[0;34m=\u001b[0m\u001b[0mheaders\u001b[0m\u001b[0;34m,\u001b[0m\u001b[0;34m\u001b[0m\u001b[0;34m\u001b[0m\u001b[0m\n\u001b[1;32m    236\u001b[0m                             \u001b[0m_preload_content\u001b[0m\u001b[0;34m=\u001b[0m\u001b[0m_preload_content\u001b[0m\u001b[0;34m,\u001b[0m\u001b[0;34m\u001b[0m\u001b[0;34m\u001b[0m\u001b[0m\n",
            "\u001b[0;32m/usr/local/lib/python3.12/dist-packages/swagger_client/rest.py\u001b[0m in \u001b[0;36mrequest\u001b[0;34m(self, method, url, query_params, headers, body, post_params, _preload_content, _request_timeout)\u001b[0m\n\u001b[1;32m    226\u001b[0m \u001b[0;34m\u001b[0m\u001b[0m\n\u001b[1;32m    227\u001b[0m         \u001b[0;32mif\u001b[0m \u001b[0;32mnot\u001b[0m \u001b[0;36m200\u001b[0m \u001b[0;34m<=\u001b[0m \u001b[0mr\u001b[0m\u001b[0;34m.\u001b[0m\u001b[0mstatus\u001b[0m \u001b[0;34m<=\u001b[0m \u001b[0;36m299\u001b[0m\u001b[0;34m:\u001b[0m\u001b[0;34m\u001b[0m\u001b[0;34m\u001b[0m\u001b[0m\n\u001b[0;32m--> 228\u001b[0;31m             \u001b[0;32mraise\u001b[0m \u001b[0mApiException\u001b[0m\u001b[0;34m(\u001b[0m\u001b[0mhttp_resp\u001b[0m\u001b[0;34m=\u001b[0m\u001b[0mr\u001b[0m\u001b[0;34m)\u001b[0m\u001b[0;34m\u001b[0m\u001b[0;34m\u001b[0m\u001b[0m\n\u001b[0m\u001b[1;32m    229\u001b[0m \u001b[0;34m\u001b[0m\u001b[0m\n\u001b[1;32m    230\u001b[0m         \u001b[0;32mreturn\u001b[0m \u001b[0mr\u001b[0m\u001b[0;34m\u001b[0m\u001b[0;34m\u001b[0m\u001b[0m\n",
            "\u001b[0;31mApiException\u001b[0m: (401)\nReason: Unauthorized\nHTTP response headers: HTTPHeaderDict({'Content-Type': 'application/json; charset=utf-8', 'Transfer-Encoding': 'chunked', 'Connection': 'keep-alive', 'Date': 'Thu, 16 Oct 2025 15:15:51 GMT', 'x-envoy-upstream-service-time': '45', 'server': 'istio-envoy', 'status': '401 Unauthorized', 'cache-control': 'no-cache', 'vary': 'Accept, Origin', 'referrer-policy': 'strict-origin-when-cross-origin', 'x-permitted-cross-domain-policies': 'none', 'x-xss-protection': '1; mode=block', 'x-request-id': '5a4b6850-fd35-4ee7-9975-d1b6e99f36e3', 'x-download-options': 'noopen', 'x-frame-options': 'DENY', 'x-content-type-options': 'nosniff', 'X-Cache': 'Error from cloudfront', 'Via': '1.1 ad1a856488fdab864472ba6d5677e39c.cloudfront.net (CloudFront)', 'X-Amz-Cf-Pop': 'SEA900-P6', 'X-Amz-Cf-Id': 'QdIji2ZQMJzO5rb3bHnIdn8F2d-pVk0JV1OLnZYksT5hXWdHehXORg=='})\nHTTP response body: {\"message\":\"Authorization Error\",\"errors\":[{\"resource\":\"Athlete\",\"field\":\"access_token\",\"code\":\"invalid\"}]}\n"
          ]
        }
      ]
    },
    {
      "cell_type": "markdown",
      "source": [
        "## 3. Data Extraction"
      ],
      "metadata": {
        "id": "k4L__PtA5PQG"
      }
    },
    {
      "cell_type": "code",
      "source": [
        "#set start and end dates\n",
        "start_date='2021-09-01' #@param {type:\"string\"}\n",
        "end_date='2025-10-31' #@param {type:\"string\"}\n",
        "synthetic = False #@param {type:\"boolean\"}"
      ],
      "metadata": {
        "id": "Rbh8RpfA54v0"
      },
      "execution_count": null,
      "outputs": []
    },
    {
      "cell_type": "code",
      "source": [
        "device = wearipedia.get_device(\"strava/strava\")\n",
        "\n",
        "if not synthetic:\n",
        "    device.authenticate({\n",
        "    'client_id':client_id,\n",
        "    'client_secret':client_secret,\n",
        "    'refresh_token':refresh_token\n",
        "    })\n",
        "\n",
        "params = {\"start_date\": start_date, \"end_date\": end_date}\n",
        "\n",
        "start_latlng = device.get_data(\"start_latlng\", params=params)\n",
        "end_latlng = device.get_data(\"end_latlng\", params=params)\n",
        "distance = device.get_data(\"distance\", params=params)\n",
        "moving_time = device.get_data(\"moving_time\", params=params)\n",
        "elapsed_time = device.get_data(\"elapsed_time\", params=params)\n",
        "total_elevation_gain = device.get_data(\"total_elevation_gain\", params=params)\n",
        "average_speed = device.get_data(\"average_speed\", params=params)\n",
        "max_speed = device.get_data(\"max_speed\", params=params)\n",
        "average_heartrate = device.get_data(\"average_heartrate\", params=params)\n",
        "max_heartrate = device.get_data(\"max_heartrate\", params=params)\n",
        "map_summary_polyline = device.get_data(\"map_summary_polyline\", params=params)\n",
        "elev_high = device.get_data(\"elev_high\", params=params)\n",
        "elev_low = device.get_data(\"elev_low\", params=params)\n",
        "average_cadence = device.get_data(\"average_cadence\", params=params)\n",
        "average_watts = device.get_data(\"average_watts\", params=params)\n",
        "kilojoules = device.get_data(\"kilojoules\", params=params)\n"
      ],
      "metadata": {
        "colab": {
          "base_uri": "https://localhost:8080/",
          "height": 521
        },
        "id": "RaErffTN657b",
        "outputId": "2d4d06f3-28bf-4fbd-967f-44906cea1d4a"
      },
      "execution_count": null,
      "outputs": [
        {
          "output_type": "stream",
          "name": "stderr",
          "text": [
            "WARNING:py.warnings:/usr/local/lib/python3.12/dist-packages/jupyter_client/session.py:203: DeprecationWarning: datetime.datetime.utcnow() is deprecated and scheduled for removal in a future version. Use timezone-aware objects to represent datetimes in UTC: datetime.datetime.now(datetime.UTC).\n",
            "  return datetime.utcnow().replace(tzinfo=utc)\n",
            "\n"
          ]
        },
        {
          "output_type": "stream",
          "name": "stdout",
          "text": [
            "Requesting Token...\n",
            "\n",
            "Access Token = 8dd63b88fd47b1cadf92f824cfaac5191a95fda9\n",
            "\n"
          ]
        },
        {
          "output_type": "error",
          "ename": "ValueError",
          "evalue": "data_type must be in ['distance', 'moving_time', 'elapsed_time', 'total_elevation_gain', 'average_speed', 'max_speed', 'average_heartrate', 'max_heartrate', 'map_summary_polyline', 'elev_high', 'elev_low', 'average_cadence', 'average_watts', 'kilojoules', 'heartrate']",
          "traceback": [
            "\u001b[0;31m---------------------------------------------------------------------------\u001b[0m",
            "\u001b[0;31mValueError\u001b[0m                                Traceback (most recent call last)",
            "\u001b[0;32m/tmp/ipython-input-1740601098.py\u001b[0m in \u001b[0;36m<cell line: 0>\u001b[0;34m()\u001b[0m\n\u001b[1;32m     10\u001b[0m \u001b[0mparams\u001b[0m \u001b[0;34m=\u001b[0m \u001b[0;34m{\u001b[0m\u001b[0;34m\"start_date\"\u001b[0m\u001b[0;34m:\u001b[0m \u001b[0mstart_date\u001b[0m\u001b[0;34m,\u001b[0m \u001b[0;34m\"end_date\"\u001b[0m\u001b[0;34m:\u001b[0m \u001b[0mend_date\u001b[0m\u001b[0;34m}\u001b[0m\u001b[0;34m\u001b[0m\u001b[0;34m\u001b[0m\u001b[0m\n\u001b[1;32m     11\u001b[0m \u001b[0;34m\u001b[0m\u001b[0m\n\u001b[0;32m---> 12\u001b[0;31m \u001b[0mstart_latlng\u001b[0m \u001b[0;34m=\u001b[0m \u001b[0mdevice\u001b[0m\u001b[0;34m.\u001b[0m\u001b[0mget_data\u001b[0m\u001b[0;34m(\u001b[0m\u001b[0;34m\"start_latlng\"\u001b[0m\u001b[0;34m,\u001b[0m \u001b[0mparams\u001b[0m\u001b[0;34m=\u001b[0m\u001b[0mparams\u001b[0m\u001b[0;34m)\u001b[0m\u001b[0;34m\u001b[0m\u001b[0;34m\u001b[0m\u001b[0m\n\u001b[0m\u001b[1;32m     13\u001b[0m \u001b[0mend_latlng\u001b[0m \u001b[0;34m=\u001b[0m \u001b[0mdevice\u001b[0m\u001b[0;34m.\u001b[0m\u001b[0mget_data\u001b[0m\u001b[0;34m(\u001b[0m\u001b[0;34m\"end_latlng\"\u001b[0m\u001b[0;34m,\u001b[0m \u001b[0mparams\u001b[0m\u001b[0;34m=\u001b[0m\u001b[0mparams\u001b[0m\u001b[0;34m)\u001b[0m\u001b[0;34m\u001b[0m\u001b[0;34m\u001b[0m\u001b[0m\n\u001b[1;32m     14\u001b[0m \u001b[0mdistance\u001b[0m \u001b[0;34m=\u001b[0m \u001b[0mdevice\u001b[0m\u001b[0;34m.\u001b[0m\u001b[0mget_data\u001b[0m\u001b[0;34m(\u001b[0m\u001b[0;34m\"distance\"\u001b[0m\u001b[0;34m,\u001b[0m \u001b[0mparams\u001b[0m\u001b[0;34m=\u001b[0m\u001b[0mparams\u001b[0m\u001b[0;34m)\u001b[0m\u001b[0;34m\u001b[0m\u001b[0;34m\u001b[0m\u001b[0m\n",
            "\u001b[0;32m/usr/local/lib/python3.12/dist-packages/wearipedia/devices/device.py\u001b[0m in \u001b[0;36mget_data\u001b[0;34m(self, data_type, params)\u001b[0m\n\u001b[1;32m    146\u001b[0m         \"\"\"\n\u001b[1;32m    147\u001b[0m         \u001b[0;32mif\u001b[0m \u001b[0;32mnot\u001b[0m \u001b[0mdata_type\u001b[0m \u001b[0;32min\u001b[0m \u001b[0mself\u001b[0m\u001b[0;34m.\u001b[0m\u001b[0mvalid_data_types\u001b[0m\u001b[0;34m:\u001b[0m\u001b[0;34m\u001b[0m\u001b[0;34m\u001b[0m\u001b[0m\n\u001b[0;32m--> 148\u001b[0;31m             \u001b[0;32mraise\u001b[0m \u001b[0mValueError\u001b[0m\u001b[0;34m(\u001b[0m\u001b[0;34mf\"data_type must be in {list(self.valid_data_types)}\"\u001b[0m\u001b[0;34m)\u001b[0m\u001b[0;34m\u001b[0m\u001b[0;34m\u001b[0m\u001b[0m\n\u001b[0m\u001b[1;32m    149\u001b[0m \u001b[0;34m\u001b[0m\u001b[0m\n\u001b[1;32m    150\u001b[0m         \u001b[0;32mif\u001b[0m \u001b[0mparams\u001b[0m \u001b[0;32mis\u001b[0m \u001b[0;32mNone\u001b[0m\u001b[0;34m:\u001b[0m\u001b[0;34m\u001b[0m\u001b[0;34m\u001b[0m\u001b[0m\n",
            "\u001b[0;31mValueError\u001b[0m: data_type must be in ['distance', 'moving_time', 'elapsed_time', 'total_elevation_gain', 'average_speed', 'max_speed', 'average_heartrate', 'max_heartrate', 'map_summary_polyline', 'elev_high', 'elev_low', 'average_cadence', 'average_watts', 'kilojoules', 'heartrate']"
          ]
        }
      ]
    },
    {
      "cell_type": "markdown",
      "source": [
        "## 4. Data Exporting"
      ],
      "metadata": {
        "id": "_sfwbwLu_LoU"
      }
    },
    {
      "cell_type": "markdown",
      "source": [
        "Exporting to CSV/XLSX\n",
        "\n",
        "We will thus export steps, heart rates, and breath rates all as separate files."
      ],
      "metadata": {
        "id": "o78HxXa2_aQg"
      }
    },
    {
      "cell_type": "code",
      "source": [
        "complete = {\n",
        "    \"distance\": distance,\n",
        "    'moving_time':moving_time,\n",
        "    'elapsed_time':elapsed_time,\n",
        "    'total_elevation_gain':total_elevation_gain,\n",
        "    'average_speed':average_speed,\n",
        "    'max_speed':max_speed,\n",
        "    'average_heartrate':average_heartrate,\n",
        "    'max_heartrate':max_heartrate,\n",
        "    'map_summary_polyline':map_summary_polyline,\n",
        "    'elev_high':elev_high,\n",
        "    'elev_low':elev_low,\n",
        "    'average_cadence':average_cadence,\n",
        "    'average_watts':average_watts,\n",
        "    'kilojoules':kilojoules\n",
        "}"
      ],
      "metadata": {
        "id": "YuwNVEp9_zQf"
      },
      "execution_count": null,
      "outputs": []
    },
    {
      "cell_type": "code",
      "source": [
        "distance_df = pd.DataFrame.from_dict(complete['distance'])\n",
        "distance_df.to_csv('distance.csv')\n",
        "distance_df.to_excel('distance.xlsx')\n",
        "\n",
        "moving_time_df = pd.DataFrame.from_dict(complete['moving_time'])\n",
        "moving_time_df.to_csv('moving_time.csv')\n",
        "moving_time_df.to_excel('moving_time.xlsx')\n",
        "\n",
        "elapsed_time_df = pd.DataFrame.from_dict(complete['elapsed_time'])\n",
        "elapsed_time_df.to_csv('elapsed_time.csv')\n",
        "elapsed_time_df.to_excel('elapsed_time.xlsx')\n",
        "\n",
        "total_elevation_gain_df = pd.DataFrame.from_dict(complete['total_elevation_gain'])\n",
        "total_elevation_gain_df.to_csv('total_elevation_gain.csv')\n",
        "total_elevation_gain_df.to_excel('total_elevation_gain.xlsx')\n",
        "\n",
        "average_speed_df = pd.DataFrame.from_dict(complete['average_speed'])\n",
        "average_speed_df.to_csv('average_speed.csv')\n",
        "average_speed_df.to_excel('average_speed.xlsx')\n",
        "\n",
        "max_speed_df = pd.DataFrame.from_dict(complete['max_speed'])\n",
        "max_speed_df.to_csv('max_speed.csv')\n",
        "max_speed_df.to_excel('max_speed.xlsx')\n",
        "\n",
        "average_heartrate_df = pd.DataFrame.from_dict(complete['average_heartrate'])\n",
        "average_heartrate_df.to_csv('average_heartrate.csv')\n",
        "average_heartrate_df.to_excel('average_heartrate.xlsx')\n",
        "\n",
        "max_heartrate_df = pd.DataFrame.from_dict(complete['max_heartrate'])\n",
        "max_heartrate_df.to_csv('max_heartrate.csv')\n",
        "max_heartrate_df.to_excel('max_heartrate.xlsx')\n",
        "\n",
        "map_summary_polyline_df = pd.DataFrame.from_dict(complete['map_summary_polyline'])\n",
        "map_summary_polyline_df.to_csv('map_summary_polyline.csv')\n",
        "map_summary_polyline_df.to_excel('map_summary_polyline.xlsx')\n",
        "\n",
        "elev_high_df = pd.DataFrame.from_dict(complete['elev_high'])\n",
        "elev_high_df.to_csv('elev_high.csv')\n",
        "elev_high_df.to_excel('elev_high.xlsx')\n",
        "\n",
        "elev_low_df = pd.DataFrame.from_dict(complete['elev_low'])\n",
        "elev_low_df.to_csv('elev_low.csv')\n",
        "elev_low_df.to_excel('elev_low.xlsx')\n",
        "\n",
        "average_cadence_df = pd.DataFrame.from_dict(complete['average_cadence'])\n",
        "average_cadence_df.to_csv('average_cadence.csv')\n",
        "average_cadence_df.to_excel('average_cadence.xlsx')\n",
        "\n",
        "average_watts_df = pd.DataFrame.from_dict(complete['average_watts'])\n",
        "average_watts_df.to_csv('average_watts.csv')\n",
        "average_watts_df.to_excel('average_watts.xlsx')\n",
        "\n",
        "kilojoules_df = pd.DataFrame.from_dict(complete['kilojoules'])\n",
        "kilojoules_df.to_csv('kilojoules.csv')\n",
        "kilojoules_df.to_excel('kilojoules.xlsx')\n"
      ],
      "metadata": {
        "id": "KhxassRz_nUc"
      },
      "execution_count": null,
      "outputs": []
    },
    {
      "cell_type": "markdown",
      "source": [
        "## Visualization"
      ],
      "metadata": {
        "id": "rSjgAFrN50yM"
      }
    },
    {
      "cell_type": "code",
      "source": [
        "m = folium.Map(\n",
        "    tiles=\"cartodbpositron\",\n",
        "    location=[49.4435, 1.0984],\n",
        "    zoom_start=11.5,\n",
        "    control_scale=True\n",
        ")\n",
        "folium.TileLayer(\"cartodbpositron\").add_to(m)\n",
        "folium.TileLayer(\"cartodbdark_matter\").add_to(m)\n",
        "folium.LayerControl().add_to(m)"
      ],
      "metadata": {
        "id": "CG8kupqfRa7g"
      },
      "execution_count": null,
      "outputs": []
    },
    {
      "cell_type": "code",
      "source": [
        "def downsample(l, n):\n",
        "    \"\"\"Returns every nth element from list l. Returns the\n",
        "    original list if n is set to 1.\n",
        "    Used to reduce the number of GPS points per activity,\n",
        "    to improve performance of the website.\n",
        "    \"\"\"\n",
        "\n",
        "    return l[0::n]\n",
        "\n",
        "def map_activities(activities, folium_map, opacity, weight):\n",
        "    if len(activities) == 0:\n",
        "        logging.info(\"No activities found, returning empty folium map.\")\n",
        "        return folium_map\n",
        "\n",
        "    for a in activities:\n",
        "        if a.type == \"Workout\":\n",
        "            continue\n",
        "        streams = client.get_activity_streams(a.id, athlete.id)\n",
        "        try:\n",
        "            points = list(zip(streams.lat, streams.lng))\n",
        "            points = downsample(l=points, n=2)\n",
        "            if a.type == \"Run\":\n",
        "                folium.PolyLine(\n",
        "                    locations=points, color=\"#ff9933\", opacity=opacity, weight=weight\n",
        "                ).add_to(folium_map)\n",
        "            elif a.type == \"Ride\":\n",
        "                folium.PolyLine(\n",
        "                    locations=points, color=\"#0066ff\", opacity=opacity, weight=weight\n",
        "                ).add_to(folium_map)\n",
        "            else:\n",
        "                folium.PolyLine(\n",
        "                    locations=points, color=\"#cc00ff\", opacity=opacity, weight=weight\n",
        "                ).add_to(folium_map)\n",
        "            logging.critical(\"Mapped activity with id: {}\".format(a.id))\n",
        "        except Exception:\n",
        "            logging.error(\"Could not map activity with id: {}\".format(a.id))\n",
        "\n",
        "    return folium_map"
      ],
      "metadata": {
        "id": "eyj-XNxaRo7Q"
      },
      "execution_count": null,
      "outputs": []
    },
    {
      "cell_type": "code",
      "source": [
        "m = map_activities(\n",
        "    activities=activities,\n",
        "    folium_map=m,\n",
        "    opacity=0.5,\n",
        "    weight=1\n",
        ")"
      ],
      "metadata": {
        "collapsed": true,
        "id": "ARJfX01LRtHr"
      },
      "execution_count": null,
      "outputs": []
    },
    {
      "cell_type": "code",
      "source": [
        "m"
      ],
      "metadata": {
        "id": "UodDJ5P4SDQV"
      },
      "execution_count": null,
      "outputs": []
    }
  ]
}